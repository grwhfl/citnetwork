{
 "cells": [
  {
   "cell_type": "code",
   "execution_count": null,
   "id": "020df9b6",
   "metadata": {},
   "outputs": [],
   "source": [
    "import json\n",
    "from tqdm.notebook import tqdm\n",
    "from collections import Counter\n",
    "import pandas as pd\n",
    "import re\n",
    "\n",
    "\n",
    "def repl(m): \n",
    "    str_ = m[0]\n",
    "    return re.findall('\\d+', str_)[0]\n",
    "\n",
    "i = 0\n",
    "with open(r\"C:\\Users\\User\\Downloads\\dblp.v13\\dblpv13.json\", 'r',  encoding=\"utf8\") as f, open(r\"C:\\Users\\User\\Downloads\\dblp.v13\\dblpv13_version1.jsonl\", 'w', encoding=\"utf8\") as wf:\n",
    "    left, right = 0, 0\n",
    "    row_json = ''\n",
    "    for idx, row in enumerate(f):       \n",
    "        if idx > 10**6:\n",
    "            break\n",
    "        row_list = list(row)\n",
    "        row_counter = dict(Counter(row_list))\n",
    "        if '{' not in row_counter:\n",
    "            row_counter['{'] = 0\n",
    "        if '}' not in row_counter:\n",
    "            row_counter['}'] = 0\n",
    "        num_left, num_right = row_counter['{'], row_counter['}']\n",
    "        left += num_left\n",
    "        right += num_right\n",
    "        if left > 0:\n",
    "            row_json += row\n",
    "            \n",
    "        if left - right == 0 and left > 0:\n",
    "            i += 1\n",
    "            row_json = row_json.strip()\n",
    "            if row_json[-1] == ',':\n",
    "                row_json = row_json[:-1]\n",
    "            row_json = re.sub(r'NumberInt\\(\\d{1,}\\)', repl, row_json)\n",
    "            #print(row_json)\n",
    "            truth_json = json.loads(row_json)\n",
    "            wf.write(json.dumps(truth_json) + '\\n')\n",
    "\n",
    "            #print('========================')\n",
    "            row_json = ''\n",
    "            left, right = 0, 0        \n",
    "            \n",
    "        \n",
    "print('готово')"
   ]
  }
 ],
 "metadata": {
  "kernelspec": {
   "display_name": "Python 3",
   "language": "python",
   "name": "python3"
  },
  "language_info": {
   "codemirror_mode": {
    "name": "ipython",
    "version": 3
   },
   "file_extension": ".py",
   "mimetype": "text/x-python",
   "name": "python",
   "nbconvert_exporter": "python",
   "pygments_lexer": "ipython3",
   "version": "3.8.8"
  }
 },
 "nbformat": 4,
 "nbformat_minor": 5
}
