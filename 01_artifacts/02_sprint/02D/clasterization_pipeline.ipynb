{
 "cells": [
  {
   "cell_type": "code",
   "execution_count": 1,
   "metadata": {
    "execution": {
     "iopub.execute_input": "2022-10-21T18:04:32.426666Z",
     "iopub.status.busy": "2022-10-21T18:04:32.426327Z",
     "iopub.status.idle": "2022-10-21T18:04:32.454452Z",
     "shell.execute_reply": "2022-10-21T18:04:32.453422Z",
     "shell.execute_reply.started": "2022-10-21T18:04:32.426587Z"
    }
   },
   "outputs": [],
   "source": [
    "import numpy as np\n",
    "import pandas as pd"
   ]
  },
  {
   "cell_type": "code",
   "execution_count": 2,
   "metadata": {
    "execution": {
     "iopub.execute_input": "2022-10-21T18:04:32.456918Z",
     "iopub.status.busy": "2022-10-21T18:04:32.456535Z",
     "iopub.status.idle": "2022-10-21T18:04:46.631690Z",
     "shell.execute_reply": "2022-10-21T18:04:46.630274Z",
     "shell.execute_reply.started": "2022-10-21T18:04:32.456878Z"
    }
   },
   "outputs": [
    {
     "name": "stdout",
     "output_type": "stream",
     "text": [
      "Collecting sentence_transformers\n",
      "  Downloading sentence-transformers-2.2.2.tar.gz (85 kB)\n",
      "\u001b[2K     \u001b[90m━━━━━━━━━━━━━━━━━━━━━━━━━━━━━━━━━━━━━━━\u001b[0m \u001b[32m86.0/86.0 kB\u001b[0m \u001b[31m924.1 kB/s\u001b[0m eta \u001b[36m0:00:00\u001b[0ma \u001b[36m0:00:01\u001b[0m\n",
      "\u001b[?25h  Preparing metadata (setup.py) ... \u001b[?25ldone\n",
      "\u001b[?25hRequirement already satisfied: transformers<5.0.0,>=4.6.0 in /opt/conda/lib/python3.7/site-packages (from sentence_transformers) (4.20.1)\n",
      "Requirement already satisfied: tqdm in /opt/conda/lib/python3.7/site-packages (from sentence_transformers) (4.64.0)\n",
      "Requirement already satisfied: torch>=1.6.0 in /opt/conda/lib/python3.7/site-packages (from sentence_transformers) (1.11.0)\n",
      "Requirement already satisfied: torchvision in /opt/conda/lib/python3.7/site-packages (from sentence_transformers) (0.12.0)\n",
      "Requirement already satisfied: numpy in /opt/conda/lib/python3.7/site-packages (from sentence_transformers) (1.21.6)\n",
      "Requirement already satisfied: scikit-learn in /opt/conda/lib/python3.7/site-packages (from sentence_transformers) (1.0.2)\n",
      "Requirement already satisfied: scipy in /opt/conda/lib/python3.7/site-packages (from sentence_transformers) (1.7.3)\n",
      "Requirement already satisfied: nltk in /opt/conda/lib/python3.7/site-packages (from sentence_transformers) (3.7)\n",
      "Requirement already satisfied: sentencepiece in /opt/conda/lib/python3.7/site-packages (from sentence_transformers) (0.1.97)\n",
      "Requirement already satisfied: huggingface-hub>=0.4.0 in /opt/conda/lib/python3.7/site-packages (from sentence_transformers) (0.8.1)\n",
      "Requirement already satisfied: filelock in /opt/conda/lib/python3.7/site-packages (from huggingface-hub>=0.4.0->sentence_transformers) (3.7.1)\n",
      "Requirement already satisfied: packaging>=20.9 in /opt/conda/lib/python3.7/site-packages (from huggingface-hub>=0.4.0->sentence_transformers) (21.3)\n",
      "Requirement already satisfied: importlib-metadata in /opt/conda/lib/python3.7/site-packages (from huggingface-hub>=0.4.0->sentence_transformers) (4.12.0)\n",
      "Requirement already satisfied: typing-extensions>=3.7.4.3 in /opt/conda/lib/python3.7/site-packages (from huggingface-hub>=0.4.0->sentence_transformers) (4.3.0)\n",
      "Requirement already satisfied: pyyaml>=5.1 in /opt/conda/lib/python3.7/site-packages (from huggingface-hub>=0.4.0->sentence_transformers) (6.0)\n",
      "Requirement already satisfied: requests in /opt/conda/lib/python3.7/site-packages (from huggingface-hub>=0.4.0->sentence_transformers) (2.28.1)\n",
      "Requirement already satisfied: regex!=2019.12.17 in /opt/conda/lib/python3.7/site-packages (from transformers<5.0.0,>=4.6.0->sentence_transformers) (2021.11.10)\n",
      "Requirement already satisfied: tokenizers!=0.11.3,<0.13,>=0.11.1 in /opt/conda/lib/python3.7/site-packages (from transformers<5.0.0,>=4.6.0->sentence_transformers) (0.12.1)\n",
      "Requirement already satisfied: click in /opt/conda/lib/python3.7/site-packages (from nltk->sentence_transformers) (8.0.4)\n",
      "Requirement already satisfied: joblib in /opt/conda/lib/python3.7/site-packages (from nltk->sentence_transformers) (1.0.1)\n",
      "Requirement already satisfied: threadpoolctl>=2.0.0 in /opt/conda/lib/python3.7/site-packages (from scikit-learn->sentence_transformers) (3.1.0)\n",
      "Requirement already satisfied: pillow!=8.3.*,>=5.3.0 in /opt/conda/lib/python3.7/site-packages (from torchvision->sentence_transformers) (9.1.1)\n",
      "Requirement already satisfied: pyparsing!=3.0.5,>=2.0.2 in /opt/conda/lib/python3.7/site-packages (from packaging>=20.9->huggingface-hub>=0.4.0->sentence_transformers) (3.0.9)\n",
      "Requirement already satisfied: zipp>=0.5 in /opt/conda/lib/python3.7/site-packages (from importlib-metadata->huggingface-hub>=0.4.0->sentence_transformers) (3.8.0)\n",
      "Requirement already satisfied: idna<4,>=2.5 in /opt/conda/lib/python3.7/site-packages (from requests->huggingface-hub>=0.4.0->sentence_transformers) (3.3)\n",
      "Requirement already satisfied: urllib3<1.27,>=1.21.1 in /opt/conda/lib/python3.7/site-packages (from requests->huggingface-hub>=0.4.0->sentence_transformers) (1.26.12)\n",
      "Requirement already satisfied: charset-normalizer<3,>=2 in /opt/conda/lib/python3.7/site-packages (from requests->huggingface-hub>=0.4.0->sentence_transformers) (2.1.0)\n",
      "Requirement already satisfied: certifi>=2017.4.17 in /opt/conda/lib/python3.7/site-packages (from requests->huggingface-hub>=0.4.0->sentence_transformers) (2022.6.15.2)\n",
      "Building wheels for collected packages: sentence_transformers\n",
      "  Building wheel for sentence_transformers (setup.py) ... \u001b[?25ldone\n",
      "\u001b[?25h  Created wheel for sentence_transformers: filename=sentence_transformers-2.2.2-py3-none-any.whl size=125938 sha256=5ff0abc4a8ff591765fe799c6eec0d06675dcbd8fce095f3991a24a8362b4623\n",
      "  Stored in directory: /root/.cache/pip/wheels/bf/06/fb/d59c1e5bd1dac7f6cf61ec0036cc3a10ab8fecaa6b2c3d3ee9\n",
      "Successfully built sentence_transformers\n",
      "Installing collected packages: sentence_transformers\n",
      "Successfully installed sentence_transformers-2.2.2\n",
      "\u001b[33mWARNING: Running pip as the 'root' user can result in broken permissions and conflicting behaviour with the system package manager. It is recommended to use a virtual environment instead: https://pip.pypa.io/warnings/venv\u001b[0m\u001b[33m\n",
      "\u001b[0m"
     ]
    }
   ],
   "source": [
    "!pip install sentence_transformers"
   ]
  },
  {
   "cell_type": "code",
   "execution_count": 3,
   "metadata": {
    "execution": {
     "iopub.execute_input": "2022-10-21T18:04:46.634017Z",
     "iopub.status.busy": "2022-10-21T18:04:46.633604Z",
     "iopub.status.idle": "2022-10-21T18:05:11.283631Z",
     "shell.execute_reply": "2022-10-21T18:05:11.282486Z",
     "shell.execute_reply.started": "2022-10-21T18:04:46.633979Z"
    }
   },
   "outputs": [
    {
     "data": {
      "application/vnd.jupyter.widget-view+json": {
       "model_id": "ded3fa42cf684375820881dfb7b9d923",
       "version_major": 2,
       "version_minor": 0
      },
      "text/plain": [
       "Downloading:   0%|          | 0.00/1.18k [00:00<?, ?B/s]"
      ]
     },
     "metadata": {},
     "output_type": "display_data"
    },
    {
     "data": {
      "application/vnd.jupyter.widget-view+json": {
       "model_id": "e587df5ec270455e9aa5ebcf50132b6f",
       "version_major": 2,
       "version_minor": 0
      },
      "text/plain": [
       "Downloading:   0%|          | 0.00/190 [00:00<?, ?B/s]"
      ]
     },
     "metadata": {},
     "output_type": "display_data"
    },
    {
     "data": {
      "application/vnd.jupyter.widget-view+json": {
       "model_id": "5829b6c711ef4819b5e926687acda77b",
       "version_major": 2,
       "version_minor": 0
      },
      "text/plain": [
       "Downloading:   0%|          | 0.00/10.6k [00:00<?, ?B/s]"
      ]
     },
     "metadata": {},
     "output_type": "display_data"
    },
    {
     "data": {
      "application/vnd.jupyter.widget-view+json": {
       "model_id": "79719aed0b9b4df89efc18ff0673ea13",
       "version_major": 2,
       "version_minor": 0
      },
      "text/plain": [
       "Downloading:   0%|          | 0.00/612 [00:00<?, ?B/s]"
      ]
     },
     "metadata": {},
     "output_type": "display_data"
    },
    {
     "data": {
      "application/vnd.jupyter.widget-view+json": {
       "model_id": "4f2f990b645d472ca38bb8a495d374fb",
       "version_major": 2,
       "version_minor": 0
      },
      "text/plain": [
       "Downloading:   0%|          | 0.00/116 [00:00<?, ?B/s]"
      ]
     },
     "metadata": {},
     "output_type": "display_data"
    },
    {
     "data": {
      "application/vnd.jupyter.widget-view+json": {
       "model_id": "72aba9bc6e4341afac34de049f5dc106",
       "version_major": 2,
       "version_minor": 0
      },
      "text/plain": [
       "Downloading:   0%|          | 0.00/39.3k [00:00<?, ?B/s]"
      ]
     },
     "metadata": {},
     "output_type": "display_data"
    },
    {
     "data": {
      "application/vnd.jupyter.widget-view+json": {
       "model_id": "3048b48e74b949bfa937b2fdb9a4e81c",
       "version_major": 2,
       "version_minor": 0
      },
      "text/plain": [
       "Downloading:   0%|          | 0.00/90.9M [00:00<?, ?B/s]"
      ]
     },
     "metadata": {},
     "output_type": "display_data"
    },
    {
     "data": {
      "application/vnd.jupyter.widget-view+json": {
       "model_id": "5bfc41024ecf4b1aac2fe96e6b10dd54",
       "version_major": 2,
       "version_minor": 0
      },
      "text/plain": [
       "Downloading:   0%|          | 0.00/53.0 [00:00<?, ?B/s]"
      ]
     },
     "metadata": {},
     "output_type": "display_data"
    },
    {
     "data": {
      "application/vnd.jupyter.widget-view+json": {
       "model_id": "c37c5cdb9a184f2b8f0b65da5074e1f6",
       "version_major": 2,
       "version_minor": 0
      },
      "text/plain": [
       "Downloading:   0%|          | 0.00/112 [00:00<?, ?B/s]"
      ]
     },
     "metadata": {},
     "output_type": "display_data"
    },
    {
     "data": {
      "application/vnd.jupyter.widget-view+json": {
       "model_id": "98a4eed65b8645b6a237e46577883c9e",
       "version_major": 2,
       "version_minor": 0
      },
      "text/plain": [
       "Downloading:   0%|          | 0.00/466k [00:00<?, ?B/s]"
      ]
     },
     "metadata": {},
     "output_type": "display_data"
    },
    {
     "data": {
      "application/vnd.jupyter.widget-view+json": {
       "model_id": "89640a9d799b4d488037d268a26867fe",
       "version_major": 2,
       "version_minor": 0
      },
      "text/plain": [
       "Downloading:   0%|          | 0.00/350 [00:00<?, ?B/s]"
      ]
     },
     "metadata": {},
     "output_type": "display_data"
    },
    {
     "data": {
      "application/vnd.jupyter.widget-view+json": {
       "model_id": "7ead8e93dfab449b9b1d8eaaf50bb0d1",
       "version_major": 2,
       "version_minor": 0
      },
      "text/plain": [
       "Downloading:   0%|          | 0.00/13.2k [00:00<?, ?B/s]"
      ]
     },
     "metadata": {},
     "output_type": "display_data"
    },
    {
     "data": {
      "application/vnd.jupyter.widget-view+json": {
       "model_id": "a7bcf7bd1c2e4895bec91c3945c18283",
       "version_major": 2,
       "version_minor": 0
      },
      "text/plain": [
       "Downloading:   0%|          | 0.00/232k [00:00<?, ?B/s]"
      ]
     },
     "metadata": {},
     "output_type": "display_data"
    },
    {
     "data": {
      "application/vnd.jupyter.widget-view+json": {
       "model_id": "2cbc1d7d409a431e9ee5c6f58cb7fa33",
       "version_major": 2,
       "version_minor": 0
      },
      "text/plain": [
       "Downloading:   0%|          | 0.00/349 [00:00<?, ?B/s]"
      ]
     },
     "metadata": {},
     "output_type": "display_data"
    },
    {
     "data": {
      "application/vnd.jupyter.widget-view+json": {
       "model_id": "5c7b7145132345c4a0b79d2fb9685b2c",
       "version_major": 2,
       "version_minor": 0
      },
      "text/plain": [
       "Batches:   0%|          | 0/1 [00:00<?, ?it/s]"
      ]
     },
     "metadata": {},
     "output_type": "display_data"
    },
    {
     "name": "stdout",
     "output_type": "stream",
     "text": [
      "[[ 6.76568896e-02  6.34958893e-02  4.87130918e-02  7.93049783e-02\n",
      "   3.74480896e-02  2.65278132e-03  3.93749848e-02 -7.09844474e-03\n",
      "   5.93613870e-02  3.15370262e-02  6.00980632e-02 -5.29051460e-02\n",
      "   4.06067483e-02 -2.59308480e-02  2.98428405e-02  1.12693186e-03\n",
      "   7.35149011e-02 -5.03819063e-02 -1.22386612e-01  2.37028431e-02\n",
      "   2.97264978e-02  4.24768664e-02  2.56338026e-02  1.99519889e-03\n",
      "  -5.69190718e-02 -2.71598268e-02 -3.29035632e-02  6.60248175e-02\n",
      "   1.19007103e-01 -4.58791181e-02 -7.26214871e-02 -3.25839967e-02\n",
      "   5.23413233e-02  4.50552665e-02  8.25300068e-03  3.67024206e-02\n",
      "  -1.39414985e-02  6.53918535e-02 -2.64272075e-02  2.06393524e-04\n",
      "  -1.36643425e-02 -3.62810120e-02 -1.95043571e-02 -2.89738216e-02\n",
      "   3.94270532e-02 -8.84090811e-02  2.62423791e-03  1.36713870e-02\n",
      "   4.83062938e-02 -3.11566014e-02 -1.17329188e-01 -5.11690415e-02\n",
      "  -8.85287896e-02 -2.18962654e-02  1.42986672e-02  4.44168001e-02\n",
      "  -1.34815397e-02  7.43392482e-02  2.66382657e-02 -1.98762305e-02\n",
      "   1.79191120e-02 -1.06052421e-02 -9.04263109e-02  2.13269144e-02\n",
      "   1.41204819e-01 -6.47176756e-03 -1.40386971e-03 -1.53610175e-02\n",
      "  -8.73571932e-02  7.22174421e-02  2.01403163e-02  4.25587483e-02\n",
      "  -3.49013954e-02  3.19580751e-04 -8.02970603e-02 -3.27471979e-02\n",
      "   2.85268389e-02 -5.13657928e-02  1.09389178e-01  8.19327980e-02\n",
      "  -9.84039530e-02 -9.34095904e-02 -1.51292449e-02  4.51248549e-02\n",
      "   4.94171716e-02 -2.51867771e-02  1.57077350e-02 -1.29290730e-01\n",
      "   5.31890476e-03  4.02345555e-03 -2.34571956e-02 -6.72983155e-02\n",
      "   2.92280819e-02 -2.60845348e-02  1.30625134e-02 -3.11663207e-02\n",
      "  -4.82713804e-02 -5.58859780e-02 -3.87505107e-02  1.20010801e-01\n",
      "  -1.03924461e-02  4.89704944e-02  5.53537197e-02  4.49359231e-02\n",
      "  -4.00968920e-03 -1.02959722e-01 -2.92968806e-02 -5.83402105e-02\n",
      "   2.70472486e-02 -2.20169332e-02 -7.22241253e-02 -4.13869657e-02\n",
      "  -1.93297677e-02  2.73330696e-03  2.76928389e-04 -9.67588574e-02\n",
      "  -1.00574754e-01 -1.41922953e-02 -8.07891712e-02  4.53925543e-02\n",
      "   2.45041158e-02  5.97613715e-02 -7.38185123e-02  1.19843958e-02\n",
      "  -6.63403720e-02 -7.69044608e-02  3.85157838e-02 -5.59362073e-33\n",
      "   2.80013699e-02 -5.60785234e-02 -4.86601964e-02  2.15569865e-02\n",
      "   6.01981245e-02 -4.81403172e-02 -3.50246690e-02  1.93313938e-02\n",
      "  -1.75152291e-02 -3.89210097e-02 -3.81066510e-03 -1.70287956e-02\n",
      "   2.82099657e-02  1.28290597e-02  4.71600890e-02  6.21029623e-02\n",
      "  -6.43588826e-02  1.29285574e-01 -1.31230969e-02  5.23069277e-02\n",
      "  -3.73680703e-02  2.89094355e-02 -1.68981496e-02 -2.37330366e-02\n",
      "  -3.33491899e-02 -5.16762845e-02  1.55356666e-02  2.08803061e-02\n",
      "  -1.25370966e-02  4.59578894e-02  3.72719951e-02  2.80566830e-02\n",
      "  -5.90005144e-02 -1.16988365e-02  4.92182598e-02  4.70328815e-02\n",
      "   7.35486969e-02 -3.70529555e-02  3.98463197e-03  1.06412172e-02\n",
      "  -1.61542936e-04 -5.27166240e-02  2.75927801e-02 -3.92921530e-02\n",
      "   8.44717398e-02  4.86860983e-02 -4.85871360e-03  1.79948881e-02\n",
      "  -4.28569838e-02  1.23375608e-02  6.39956864e-03  4.04823050e-02\n",
      "   1.48887606e-02 -1.53941261e-02  7.62948170e-02  2.37043686e-02\n",
      "   4.45237271e-02  5.08195721e-02 -2.31248885e-03 -1.88737009e-02\n",
      "  -1.23335943e-02  4.66002226e-02 -5.63437790e-02  6.29926994e-02\n",
      "  -3.15534808e-02  3.24912071e-02  2.34673321e-02 -6.55438155e-02\n",
      "   2.01709140e-02  2.57082377e-02 -1.23868696e-02 -8.36495683e-03\n",
      "  -6.64378032e-02  9.43073630e-02 -3.57092917e-02 -3.42483036e-02\n",
      "  -6.66352781e-03 -8.01528338e-03 -3.09711304e-02  4.33012024e-02\n",
      "  -8.21394287e-03 -1.50795043e-01  3.07692457e-02  4.00718637e-02\n",
      "  -3.79293635e-02  1.93212123e-03  4.00530510e-02 -8.77074823e-02\n",
      "  -3.68491299e-02  8.57957918e-03 -3.19251642e-02 -1.25257820e-02\n",
      "   7.35539421e-02  1.34735310e-03  2.05918811e-02  2.71098128e-33\n",
      "  -5.18577024e-02  5.78360781e-02 -9.18985531e-02  3.94421369e-02\n",
      "   1.05576538e-01 -1.96912102e-02  6.18402846e-02 -7.63464794e-02\n",
      "   2.40880344e-02  9.40049067e-02 -1.16535448e-01  3.71198505e-02\n",
      "   5.22424802e-02 -3.95854888e-03  5.72214499e-02  5.32854628e-03\n",
      "   1.24016821e-01  1.39022591e-02 -1.10249957e-02  3.56053337e-02\n",
      "  -3.30754891e-02  8.16574097e-02 -1.52003756e-02  6.05585352e-02\n",
      "  -6.01396970e-02  3.26102637e-02 -3.48296463e-02 -1.69881675e-02\n",
      "  -9.74907503e-02 -2.71483511e-02  1.74709444e-03 -7.68981948e-02\n",
      "  -4.31858487e-02 -1.89985018e-02 -2.91660652e-02  5.77488542e-02\n",
      "   2.41821595e-02 -1.16901873e-02 -6.21435121e-02  2.84351837e-02\n",
      "  -2.37499989e-04 -2.51783542e-02  4.39636689e-03  8.12840089e-02\n",
      "   3.64184678e-02 -6.04006015e-02 -3.65517288e-02 -7.93748498e-02\n",
      "  -5.08526061e-03  6.69699609e-02 -1.17784359e-01  3.23743783e-02\n",
      "  -4.71252352e-02 -1.34459911e-02 -9.48444828e-02  8.24947935e-03\n",
      "  -1.06748249e-02 -6.81882352e-02  1.11814798e-03  2.48019993e-02\n",
      "  -6.35889545e-02  2.84492783e-02 -2.61303857e-02  8.58111158e-02\n",
      "   1.14682369e-01 -5.35345972e-02 -5.63588738e-02  4.26008850e-02\n",
      "   1.09454207e-02  2.09578611e-02  1.00131199e-01  3.26051079e-02\n",
      "  -1.84208736e-01 -3.93208154e-02 -6.91455230e-02 -6.38104752e-02\n",
      "  -6.56385794e-02 -6.41250145e-03 -4.79612239e-02 -7.68133253e-02\n",
      "   2.95384750e-02 -2.29948573e-02  4.17036638e-02 -2.50047706e-02\n",
      "  -4.54506371e-03 -4.17136364e-02 -1.32289408e-02 -6.38357252e-02\n",
      "  -2.46473681e-03 -1.37337521e-02  1.68976784e-02 -6.30398542e-02\n",
      "   8.98881033e-02  4.18170691e-02 -1.85687020e-02 -1.80442150e-08\n",
      "  -1.67998299e-02 -3.21578048e-02  6.30383492e-02 -4.13092263e-02\n",
      "   4.44819294e-02  2.02464964e-03  6.29592687e-02 -5.17371530e-03\n",
      "  -1.00444015e-02 -3.05640660e-02  3.52672637e-02  5.58581799e-02\n",
      "  -4.67125028e-02  3.45103107e-02  3.29577848e-02  4.30113934e-02\n",
      "   2.94361133e-02 -3.03164665e-02 -1.71107668e-02  7.37485066e-02\n",
      "  -5.47909625e-02  2.77515203e-02  6.20159414e-03  1.58800799e-02\n",
      "   3.42978500e-02 -5.15752239e-03  2.35079322e-02  7.53134862e-02\n",
      "   1.92843359e-02  3.36196981e-02  5.09103499e-02  1.52497053e-01\n",
      "   1.64207611e-02  2.70528141e-02  3.75162475e-02  2.18553245e-02\n",
      "   5.66334240e-02 -3.95747349e-02  7.12313056e-02 -5.41377440e-02\n",
      "   1.03772781e-03  2.11852919e-02 -3.56308669e-02  1.09016985e-01\n",
      "   2.76527763e-03  3.13997306e-02  1.38422137e-03 -3.45738530e-02\n",
      "  -4.59277779e-02  2.88083237e-02  7.16904970e-03  4.84684743e-02\n",
      "   2.61018388e-02 -9.44077969e-03  2.82169301e-02  3.48724015e-02\n",
      "   3.69098596e-02 -8.58949218e-03 -3.53205726e-02 -2.47857049e-02\n",
      "  -1.91920977e-02  3.80708054e-02  5.99653944e-02 -4.22286764e-02]\n",
      " [ 8.64386261e-02  1.02762625e-01  5.39453095e-03  2.04442046e-03\n",
      "  -9.96334199e-03  2.53854953e-02  4.92875502e-02 -3.06266062e-02\n",
      "   6.87254816e-02  1.01365820e-02  7.75397420e-02 -9.00807008e-02\n",
      "   6.10614242e-03 -5.69898747e-02  1.41714914e-02  2.80491486e-02\n",
      "  -8.68464708e-02  7.64399245e-02 -1.03491269e-01 -6.77437931e-02\n",
      "   6.99947253e-02  8.44251215e-02 -7.24913971e-03  1.04770698e-02\n",
      "   1.34020913e-02  6.77576587e-02 -9.42086354e-02 -3.71690392e-02\n",
      "   5.22617623e-02 -3.10853682e-02 -9.63406712e-02  1.57716926e-02\n",
      "   2.57866681e-02  7.85244703e-02  7.89949670e-02  1.91516746e-02\n",
      "   1.64356753e-02  3.10083688e-03  3.81311439e-02  2.37090904e-02\n",
      "   1.05389934e-02 -4.40645181e-02  4.41738293e-02 -2.58727781e-02\n",
      "   6.15378432e-02 -4.05427553e-02 -8.64140168e-02  3.19722630e-02\n",
      "  -8.90733209e-04 -2.44436730e-02 -9.19720978e-02  2.33939923e-02\n",
      "  -8.30293447e-02  4.41510603e-02 -2.49692872e-02  6.23020604e-02\n",
      "  -1.30349956e-03  7.51394778e-02  2.46384814e-02 -6.47244453e-02\n",
      "  -1.17727801e-01  3.83392088e-02 -9.11767483e-02  6.35446534e-02\n",
      "   7.62739554e-02 -8.80241320e-02  9.54557676e-03 -4.69717495e-02\n",
      "  -8.41740742e-02  3.88823301e-02 -1.14393622e-01  6.28858898e-03\n",
      "  -3.49361598e-02  2.39750575e-02 -3.31316851e-02 -1.57244280e-02\n",
      "  -3.78955714e-02 -8.81247874e-03  7.06118867e-02  3.28066275e-02\n",
      "   2.03677150e-03 -1.12278953e-01  6.79721590e-03  1.22765619e-02\n",
      "   3.35303508e-02 -1.36200385e-02 -2.25490183e-02 -2.25228816e-02\n",
      "  -2.03194749e-02  5.04297689e-02 -7.48652965e-02 -8.22822303e-02\n",
      "   7.65962601e-02  4.93392497e-02 -3.75553481e-02  1.44634778e-02\n",
      "  -5.72457463e-02 -1.79954302e-02  1.09697975e-01  1.19462743e-01\n",
      "   8.09235440e-04  6.17057532e-02  3.26322541e-02 -1.30780116e-01\n",
      "  -1.48636624e-01 -6.16233051e-02  4.33886014e-02  2.67129336e-02\n",
      "   1.39785763e-02 -3.94002423e-02 -2.52711233e-02  3.87744140e-03\n",
      "   3.58664915e-02 -6.15420640e-02  3.76660414e-02  2.67564990e-02\n",
      "  -3.82659547e-02 -3.54793519e-02 -2.39227414e-02  8.67977440e-02\n",
      "  -1.84063036e-02  7.71039426e-02  1.39867503e-03  7.00383335e-02\n",
      "  -4.77877557e-02 -7.89819881e-02  5.10813966e-02 -2.99868462e-33\n",
      "  -3.91646214e-02 -2.56208098e-03  1.65210310e-02  9.48937517e-03\n",
      "  -5.66219315e-02  6.57783002e-02 -4.77002859e-02  1.11661777e-02\n",
      "  -5.73558249e-02 -9.16258805e-03 -2.17521135e-02 -5.59531860e-02\n",
      "  -1.11422725e-02  9.32793319e-02  1.66764706e-02 -1.36724049e-02\n",
      "   4.34388220e-02  1.87248772e-03  7.29950052e-03  5.16332462e-02\n",
      "   4.80608568e-02  1.35341510e-01 -1.71739236e-02 -1.29698087e-02\n",
      "  -7.50109330e-02  2.61108018e-02  2.69801766e-02  7.83049443e-04\n",
      "  -4.87270318e-02  1.17842499e-02 -4.59580496e-02 -4.83213663e-02\n",
      "  -1.95671022e-02  1.93889197e-02  1.98807251e-02  1.67432353e-02\n",
      "   9.87801477e-02 -2.74087992e-02  2.34809276e-02  3.70231015e-03\n",
      "  -6.14514500e-02 -1.21230003e-03 -9.50475596e-03  9.25158896e-03\n",
      "   2.38443669e-02  8.61231983e-02  2.26790160e-02  5.45123534e-04\n",
      "   3.47130299e-02  6.25458872e-03 -6.92777755e-03  3.92400660e-02\n",
      "   1.15675088e-02  3.26279625e-02  6.22155517e-02  2.76114251e-02\n",
      "   1.86883602e-02  3.55805121e-02  4.11795899e-02  1.54781975e-02\n",
      "   4.22691368e-02  3.82248275e-02  1.00313295e-02 -2.83245761e-02\n",
      "   4.47052605e-02 -4.10458967e-02 -4.50546434e-03 -5.44734150e-02\n",
      "   2.62321122e-02  1.79862306e-02 -1.23118773e-01 -4.66952063e-02\n",
      "  -1.35913482e-02  6.46709874e-02  3.57350521e-03 -1.22233918e-02\n",
      "  -1.79382451e-02 -2.55502257e-02  2.37223953e-02  4.08665277e-03\n",
      "  -6.51475489e-02  4.43652272e-02  4.68595959e-02 -3.25174890e-02\n",
      "   4.02274309e-03 -3.97604844e-03  1.11939292e-02 -9.95597839e-02\n",
      "   3.33168395e-02  8.01060870e-02  9.42692235e-02 -6.38294443e-02\n",
      "   3.23151723e-02 -5.13553284e-02 -7.49875419e-03  5.30048448e-34\n",
      "  -4.13194783e-02  9.49646607e-02 -1.06401399e-01  4.96590622e-02\n",
      "  -3.41913663e-02 -3.16745937e-02 -1.71556342e-02  1.70102145e-03\n",
      "   5.79758026e-02 -1.21778389e-03 -1.68536641e-02 -5.16912676e-02\n",
      "   5.52998669e-02 -3.42647396e-02  3.08179073e-02 -3.10481284e-02\n",
      "   9.27532911e-02  3.72663774e-02 -2.37397775e-02  4.45893221e-02\n",
      "   1.46153690e-02  1.16239324e-01 -5.00112735e-02  3.88716310e-02\n",
      "   4.24750661e-03  2.56976280e-02  3.27243321e-02  4.29907665e-02\n",
      "  -1.36144590e-02  2.56122351e-02  1.06261829e-02 -8.46864507e-02\n",
      "  -9.52981785e-02  1.08399898e-01 -7.51600638e-02 -1.37773622e-02\n",
      "   6.37337863e-02 -4.49667219e-03 -3.25321332e-02  6.23614043e-02\n",
      "   3.48053016e-02 -3.54922116e-02 -2.00222470e-02  3.66608165e-02\n",
      "  -2.48836968e-02  1.01819215e-02 -7.01233223e-02 -4.31950912e-02\n",
      "   2.95332707e-02 -2.94996484e-04 -3.45386602e-02  1.46675771e-02\n",
      "  -9.83970165e-02 -4.70488779e-02 -8.85497592e-03 -8.89913961e-02\n",
      "   3.50995809e-02 -1.29602015e-01 -4.98865768e-02 -6.12047613e-02\n",
      "  -5.97797446e-02  9.46317893e-03  4.91217822e-02 -7.75026977e-02\n",
      "   8.09726864e-02 -4.79257517e-02  2.34380434e-03  7.57030547e-02\n",
      "  -2.40175631e-02 -1.52545981e-02  4.86738645e-02 -3.85969356e-02\n",
      "  -7.04831555e-02 -1.20347897e-02 -3.88790444e-02 -7.76016787e-02\n",
      "  -1.07243555e-02  1.04187988e-02 -2.13753860e-02 -9.17386562e-02\n",
      "  -1.11344932e-02 -2.96065975e-02  2.46458258e-02  4.65712696e-03\n",
      "  -1.63449999e-02 -3.95219699e-02  7.73373842e-02 -2.84732878e-02\n",
      "  -3.69939464e-03  8.27665403e-02 -1.10409288e-02  3.13984044e-02\n",
      "   5.35094216e-02  5.75145967e-02 -3.17622423e-02 -1.52911266e-08\n",
      "  -7.99661353e-02 -4.76797298e-02 -8.59788656e-02  5.69616593e-02\n",
      "  -4.08866368e-02  2.23832354e-02 -4.64443583e-03 -3.80131006e-02\n",
      "  -3.10670808e-02 -1.07278377e-02  1.97698716e-02  7.77000142e-03\n",
      "  -6.09470671e-03 -3.86376120e-02  2.80272420e-02  6.78138360e-02\n",
      "  -2.35351194e-02  3.21747884e-02  8.02538730e-03 -2.39107255e-02\n",
      "  -1.22001348e-03  3.14599201e-02 -5.24924025e-02 -8.06813035e-03\n",
      "   3.14771477e-03  5.11496514e-02 -4.44104746e-02  6.36013225e-02\n",
      "   3.85084189e-02  3.30432802e-02 -4.18728916e-03  4.95592728e-02\n",
      "  -5.69604896e-02 -6.49710139e-03 -2.49793213e-02 -1.60867330e-02\n",
      "   6.62288964e-02 -2.06310581e-02  1.08045764e-01  1.68547053e-02\n",
      "   1.43813016e-02 -1.32126734e-02 -1.29387408e-01  6.95216730e-02\n",
      "  -5.55772856e-02 -6.75413832e-02 -5.45820314e-03 -6.13593077e-03\n",
      "   3.90841030e-02 -6.28779605e-02  3.74063328e-02 -1.16571076e-02\n",
      "   1.29150413e-02 -5.52495569e-02  5.16075864e-02 -4.30838065e-03\n",
      "   5.80247641e-02  1.86945014e-02  2.27810871e-02  3.21666189e-02\n",
      "   5.37978373e-02  7.02849329e-02  7.49312267e-02 -8.41774940e-02]]\n"
     ]
    }
   ],
   "source": [
    "from sentence_transformers import SentenceTransformer\n",
    "sentences = [\"This is an example sentence\", \"Each sentence is converted\"]\n",
    "\n",
    "# model = SentenceTransformer(\n",
    "#     'sentence-transformers/LaBSE',\n",
    "#     cache_folder=\"labse_weights\"\n",
    "# )\n",
    "\n",
    "# model = SentenceTransformer('labse_weights/sentence-transformers_LaBSE/')\n",
    "model = SentenceTransformer('all-MiniLM-L6-v2')\n",
    "embeddings = model.encode(sentences)\n",
    "print(embeddings)"
   ]
  },
  {
   "cell_type": "code",
   "execution_count": 4,
   "metadata": {
    "execution": {
     "iopub.execute_input": "2022-10-21T18:05:11.288248Z",
     "iopub.status.busy": "2022-10-21T18:05:11.286591Z",
     "iopub.status.idle": "2022-10-21T18:05:11.297913Z",
     "shell.execute_reply": "2022-10-21T18:05:11.296712Z",
     "shell.execute_reply.started": "2022-10-21T18:05:11.288208Z"
    }
   },
   "outputs": [
    {
     "data": {
      "text/plain": [
       "SentenceTransformer(\n",
       "  (0): Transformer({'max_seq_length': 256, 'do_lower_case': False}) with Transformer model: BertModel \n",
       "  (1): Pooling({'word_embedding_dimension': 384, 'pooling_mode_cls_token': False, 'pooling_mode_mean_tokens': True, 'pooling_mode_max_tokens': False, 'pooling_mode_mean_sqrt_len_tokens': False})\n",
       "  (2): Normalize()\n",
       ")"
      ]
     },
     "execution_count": 4,
     "metadata": {},
     "output_type": "execute_result"
    }
   ],
   "source": [
    "model"
   ]
  },
  {
   "cell_type": "code",
   "execution_count": 5,
   "metadata": {
    "execution": {
     "iopub.execute_input": "2022-10-21T18:05:11.300412Z",
     "iopub.status.busy": "2022-10-21T18:05:11.299555Z",
     "iopub.status.idle": "2022-10-21T18:05:11.329296Z",
     "shell.execute_reply": "2022-10-21T18:05:11.328019Z",
     "shell.execute_reply.started": "2022-10-21T18:05:11.300372Z"
    }
   },
   "outputs": [
    {
     "data": {
      "text/plain": [
       "{'cityblock': <function sklearn.metrics.pairwise.manhattan_distances(X, Y=None, *, sum_over_features=True)>,\n",
       " 'cosine': <function sklearn.metrics.pairwise.cosine_distances(X, Y=None)>,\n",
       " 'euclidean': <function sklearn.metrics.pairwise.euclidean_distances(X, Y=None, *, Y_norm_squared=None, squared=False, X_norm_squared=None)>,\n",
       " 'haversine': <function sklearn.metrics.pairwise.haversine_distances(X, Y=None)>,\n",
       " 'l2': <function sklearn.metrics.pairwise.euclidean_distances(X, Y=None, *, Y_norm_squared=None, squared=False, X_norm_squared=None)>,\n",
       " 'l1': <function sklearn.metrics.pairwise.manhattan_distances(X, Y=None, *, sum_over_features=True)>,\n",
       " 'manhattan': <function sklearn.metrics.pairwise.manhattan_distances(X, Y=None, *, sum_over_features=True)>,\n",
       " 'precomputed': None,\n",
       " 'nan_euclidean': <function sklearn.metrics.pairwise.nan_euclidean_distances(X, Y=None, *, squared=False, missing_values=nan, copy=True)>}"
      ]
     },
     "execution_count": 5,
     "metadata": {},
     "output_type": "execute_result"
    }
   ],
   "source": [
    "from sklearn.metrics import pairwise\n",
    "pairwise.PAIRWISE_DISTANCE_FUNCTIONS"
   ]
  },
  {
   "cell_type": "code",
   "execution_count": 6,
   "metadata": {
    "execution": {
     "iopub.execute_input": "2022-10-21T18:05:11.330693Z",
     "iopub.status.busy": "2022-10-21T18:05:11.330451Z",
     "iopub.status.idle": "2022-10-21T18:05:55.430789Z",
     "shell.execute_reply": "2022-10-21T18:05:55.429870Z",
     "shell.execute_reply.started": "2022-10-21T18:05:11.330670Z"
    }
   },
   "outputs": [
    {
     "data": {
      "text/plain": [
       "(450000, 20)"
      ]
     },
     "execution_count": 6,
     "metadata": {},
     "output_type": "execute_result"
    }
   ],
   "source": [
    "path = '../input/cndbv13/test1.json'\n",
    "df = pd.read_json(path, lines=True, chunksize = 450000)\n",
    "df = next(iter(df))\n",
    "df.shape"
   ]
  },
  {
   "cell_type": "code",
   "execution_count": 7,
   "metadata": {
    "execution": {
     "iopub.execute_input": "2022-10-21T18:05:55.433021Z",
     "iopub.status.busy": "2022-10-21T18:05:55.432575Z",
     "iopub.status.idle": "2022-10-21T18:05:55.807050Z",
     "shell.execute_reply": "2022-10-21T18:05:55.806027Z",
     "shell.execute_reply.started": "2022-10-21T18:05:55.432963Z"
    }
   },
   "outputs": [],
   "source": [
    "idx = df[(~df['abstract'].isna()) & (df['abstract'] != '')].index"
   ]
  },
  {
   "cell_type": "code",
   "execution_count": 8,
   "metadata": {
    "execution": {
     "iopub.execute_input": "2022-10-21T18:05:55.809217Z",
     "iopub.status.busy": "2022-10-21T18:05:55.808807Z",
     "iopub.status.idle": "2022-10-21T18:05:56.008318Z",
     "shell.execute_reply": "2022-10-21T18:05:56.007229Z",
     "shell.execute_reply.started": "2022-10-21T18:05:55.809180Z"
    }
   },
   "outputs": [
    {
     "data": {
      "text/plain": [
       "40        Drought is the first place in all the natural ...\n",
       "42        As process variations become a significant pro...\n",
       "43        360° represents the concerns that are addresse...\n",
       "48        \"2BTextures\", a two-movement audio/visual expe...\n",
       "50        Constructing a system that can cope with a dyn...\n",
       "                                ...                        \n",
       "449995    The objective of this paper is to track moving...\n",
       "449996    Gossiping is to broadcast the message of every...\n",
       "449997    Within the paper a description of communicatio...\n",
       "449998    Visualization research focuses either on the t...\n",
       "449999    Given two datasets A and B, their exclusive cl...\n",
       "Name: abstract, Length: 313951, dtype: object"
      ]
     },
     "execution_count": 8,
     "metadata": {},
     "output_type": "execute_result"
    }
   ],
   "source": [
    "df.loc[idx].abstract"
   ]
  },
  {
   "cell_type": "code",
   "execution_count": 9,
   "metadata": {
    "execution": {
     "iopub.execute_input": "2022-10-21T18:05:56.012877Z",
     "iopub.status.busy": "2022-10-21T18:05:56.012585Z",
     "iopub.status.idle": "2022-10-21T18:05:56.308363Z",
     "shell.execute_reply": "2022-10-21T18:05:56.307241Z",
     "shell.execute_reply.started": "2022-10-21T18:05:56.012849Z"
    }
   },
   "outputs": [
    {
     "data": {
      "text/plain": [
       "['Drought is the first place in all the natural disasters in the world. It is especially serious in North China Plain. In this paper, different soil water content control levels at winter wheat growth stages are performed on Gucheng Ecological-Meteorological Integrated Observation Experiment Station of CAMS, China. Some canopy parameters, including growth conditions, dry weight, physiological parameters and hyperspectral reflectance, are measured from erecting stage to milk stage for winter wheat in 2009. The relationship between canopy parameters and soil relative moisture, canopy water content and water indices of winter wheat are established. The results show that some parameters, such as SPAD and dry weight of leaves, decrease with the increasing of soil relative moisture, while other parameters, including dry weight of caudexes, above ground dry weight, height, photosynthesis rate, intercellular CO 2 concentration, stomatal conductance and transpiration rate, increase corresponding to the soil relative moisture. Obvious linear relationship between stomatal conductance and transpiration rate is established with 45 samples, which R2 reaches to 0.6152. Finally, the fitting equations between canopy water content and water indices are regressed with b5, b6 and b7 of MODIS bands. The equations are best with b7 and worst with b5. So the fitting equations with b7 can be used to inverse the canopy water content of winter wheat using MODIS or other remote sensing images with similar bands range to MODIS in Hebei Province. © 2011 IEEE.',\n",
       " 'As process variations become a significant problem in deep sub-micron technology, a shift from deterministic static timing analysis to statistical static timing analysis for high-performance circuit designs could reduce the excessive conservatism that is built into current timing design methods. We address the timing yield problem for sequential circuits and propose a statistical approach to handle it. We consider the spatial and path reconvergence correlations between path delays, set-up time and hold time constraints, and clock skew due to process variations. We propose a method to get the timing yield based on the delay distributions of register-to-register paths in the circuit On average, the timing yield results obtained by our approach have average errors of less than 1.0% in comparison with Monte Carlo simulation. Experimental results show that shortest path variations and clock skew due to process variations have considerable impact on circuit timing, which could bias the timing yield results. In addition, the correlation between longest and shortest path delays is not significant.',\n",
       " '360° represents the concerns that are addressed in most of my work and my approach to it: the effect of global high technology on daily life and the environment (for example, daily short-distance flights to avoid enormous wastes of time).',\n",
       " '\"2BTextures\", a two-movement audio/visual experience, leads viewers through abstract environments influenced by nature and life. This integrated journey temporally explores the multi-faceted granular complexity inherent in its sonic and visual source material. By fragmenting and simulating stylized natural elements, the artists delve into the intricate detail found in minute sounds and particulated images. As each movement unfolds, viewers traverse a macro-landscape or shift their focus to micro-elements.',\n",
       " 'Constructing a system that can cope with a dynamically changing environment is one of the greatest interests in the field of software engineering.And, biologically inspired systems, such as brain-nervous system, genetic system are already modeled as neural networks and genetic algorithms(GAs in short), and its usefulness is reported in various fields.Ho wever, despite of its advanced information processing system, immune system and endocrine system still has a long way to go before it is modeled like other ones.This may due to their complexity and randomness of the system.Nev ertheless, the nature of the biological immune system, it is dedicated to self-preservation under hostile environment and enables the creature to maintain its life.Imm une system is also capable of learning, memory, and pattern recognition. ',\n",
       " \"There is a growing interest in the potential of software agent technologies for building the next generation of advanced software systems that will help solving problems that require advanced user interactions and intensive collaborations. Despite this interest, software agents are not yet widespread due to many reasons, one of which is the heavy programming work that has to be done in order to create efficient and effective agent systems, particularly from the point of view of agents' characteristics, such as autonomy and deliberation on one hand, and integration with other technologies and applications on the other. While several agent platforms implement the belief-desire-intention (BDI) architecture have been proposed, most of these platforms are implemented based on existing general purpose programming languages, e.g. Java. As a consequence, this prevents the use of advanced features of the underlying programming language and the integration with new technologies and paradigms that are essential for the development of enterprise applications. Due to these limitations of the existing platforms, a new BDI distributed agent platform design and implementation is proposed in this paper. The CloudNetBDI platform prototype is compliant with the specifications of the Foundation for Intelligent Physical Agents (FIPA) and has been implemented in the .NET framework. The CloudNetBDI platform employs the BDI model as an internal reasoning engine for its agents. Furthermore, the CloudNetBDI platform provides an interface for developers to design and develop enriched, robust and autonomous BDI based distributed multi-agent systems.\",\n",
       " 'We conjecture that 7,373,170,279,850 is the largest integer which cannot be expressed as the sum of four nonnegative integral cubes.',\n",
       " 'The eXtensible Markup Language 驴 XML 驴 is not only a language for communication between humans and the web, it is also a language for communication between programs. Rather than passing parameters, programs can pass documents from one to another, containing not only pure data, but control information as well. Even legacy programs written in ancient languages such as COBOL and PL/I can be adapted by means ofinterface reengineering to process and to generate XML documents.',\n",
       " 'Resource allocation for multi-tier web applications in virtualization environments is one of the most important problems in autonomous computing. On one hand, the more resources that are provisioned to a multitier web application, the easier it is to meet service level objectives (SLO). On the other hand, the virtual machine which hosts the multi-tier web application needs to be consolidated as much as possible in order to maintain high resource utilization. This paper presents an adaptive resource controller which consists of a feedback utilization controller and an auto-regressive and moving average model (ARMA)-based model estimator. It can meet application-level quality of service (QoS) goals while achieving high resource utilization. To evaluate the proposed controllers, simulations are performed on a testbed simulating a virtual data center using Xen virtual machines. Experimental results indicate that the controllers can improve CPU utilization and make the best tradeoff between resource utilization and performance for multi-tier web applications.',\n",
       " 'In this paper, we are providing a solution for an efficient and up-to-date commuting planner for a public transport system used by masses. Here, we present design and implementation features of a proposed system to be used for planning a bus travel. This problem is relevant to a large metropolitan city, like New Delhi, where local bus service forms the life-line of the city. There are about 10,000 city buses running on 814 routes on Delhi’s roads. Often, there are many ways to reach a destination and often, commuters, even locals, do not possess knowledge about most of these alternate routes. Also, buses do not adhere to their schedules due to heavy traffic.Thus it becomes very difficult to remember every possible way to reach a destination (considering that one may have to break one’s journey and take another route to reach the destination). Proposed BUSTRAP [1] solution aims at providing fairly accurate information about optimal way to reach a particular destination. Though we have implemented BUSTRAP as an SMS service, it can easily beadapted for other services like IVRS, WAP etc. stating one’s current location and desired destination. The system will provide optimal ways to reach that place by bus – telling exact bus routes and numbers to board/change according to the bus movement on the city roads at that time. We record location of buses at a few instances on the roads through sensors. Our system finds their current location and speculates future locations based on these real time records. We identify changeover points on a route according to which a route plan would be formed.']"
      ]
     },
     "execution_count": 9,
     "metadata": {},
     "output_type": "execute_result"
    }
   ],
   "source": [
    "text = list(df.loc[idx].abstract.values)\n",
    "text[:10]"
   ]
  },
  {
   "cell_type": "code",
   "execution_count": 10,
   "metadata": {
    "execution": {
     "iopub.execute_input": "2022-10-21T18:05:56.310564Z",
     "iopub.status.busy": "2022-10-21T18:05:56.310176Z",
     "iopub.status.idle": "2022-10-21T18:05:56.317944Z",
     "shell.execute_reply": "2022-10-21T18:05:56.317028Z",
     "shell.execute_reply.started": "2022-10-21T18:05:56.310528Z"
    }
   },
   "outputs": [
    {
     "data": {
      "text/plain": [
       "313951"
      ]
     },
     "execution_count": 10,
     "metadata": {},
     "output_type": "execute_result"
    }
   ],
   "source": [
    "len(text)"
   ]
  },
  {
   "cell_type": "code",
   "execution_count": 11,
   "metadata": {
    "execution": {
     "iopub.execute_input": "2022-10-21T18:05:56.320208Z",
     "iopub.status.busy": "2022-10-21T18:05:56.319323Z",
     "iopub.status.idle": "2022-10-21T18:12:33.200701Z",
     "shell.execute_reply": "2022-10-21T18:12:33.199656Z",
     "shell.execute_reply.started": "2022-10-21T18:05:56.320173Z"
    }
   },
   "outputs": [
    {
     "data": {
      "application/vnd.jupyter.widget-view+json": {
       "model_id": "f8954b04cd27485b943b940c8ac649ec",
       "version_major": 2,
       "version_minor": 0
      },
      "text/plain": [
       "Batches:   0%|          | 0/2453 [00:00<?, ?it/s]"
      ]
     },
     "metadata": {},
     "output_type": "display_data"
    }
   ],
   "source": [
    "corpus_embeddings = model.encode(text, batch_size=128, show_progress_bar=True, convert_to_tensor=True)"
   ]
  },
  {
   "cell_type": "code",
   "execution_count": 12,
   "metadata": {
    "execution": {
     "iopub.execute_input": "2022-10-21T18:12:33.214795Z",
     "iopub.status.busy": "2022-10-21T18:12:33.214465Z",
     "iopub.status.idle": "2022-10-21T18:12:33.240869Z",
     "shell.execute_reply": "2022-10-21T18:12:33.239784Z",
     "shell.execute_reply.started": "2022-10-21T18:12:33.214766Z"
    }
   },
   "outputs": [
    {
     "data": {
      "text/plain": [
       "torch.Size([313951, 384])"
      ]
     },
     "execution_count": 12,
     "metadata": {},
     "output_type": "execute_result"
    }
   ],
   "source": [
    "corpus_embeddings.shape"
   ]
  },
  {
   "cell_type": "code",
   "execution_count": 13,
   "metadata": {
    "execution": {
     "iopub.execute_input": "2022-10-21T18:12:33.243177Z",
     "iopub.status.busy": "2022-10-21T18:12:33.242458Z",
     "iopub.status.idle": "2022-10-21T18:12:33.527508Z",
     "shell.execute_reply": "2022-10-21T18:12:33.526495Z",
     "shell.execute_reply.started": "2022-10-21T18:12:33.243141Z"
    }
   },
   "outputs": [
    {
     "data": {
      "text/plain": [
       "(313951, 20)"
      ]
     },
     "execution_count": 13,
     "metadata": {},
     "output_type": "execute_result"
    }
   ],
   "source": [
    "df.loc[idx].shape"
   ]
  },
  {
   "cell_type": "code",
   "execution_count": 14,
   "metadata": {
    "execution": {
     "iopub.execute_input": "2022-10-21T18:12:33.529714Z",
     "iopub.status.busy": "2022-10-21T18:12:33.529270Z",
     "iopub.status.idle": "2022-10-21T18:12:33.534611Z",
     "shell.execute_reply": "2022-10-21T18:12:33.533414Z",
     "shell.execute_reply.started": "2022-10-21T18:12:33.529674Z"
    }
   },
   "outputs": [],
   "source": [
    "# import pickle\n",
    "\n",
    "# with open('/kaggle/working/corpus_embeddings.pickle', 'wb') as handle:\n",
    "#     pickle.dump(corpus_embeddings, handle, protocol=pickle.HIGHEST_PROTOCOL)"
   ]
  },
  {
   "cell_type": "code",
   "execution_count": 15,
   "metadata": {
    "execution": {
     "iopub.execute_input": "2022-10-21T18:12:33.537188Z",
     "iopub.status.busy": "2022-10-21T18:12:33.536101Z",
     "iopub.status.idle": "2022-10-21T18:12:33.545437Z",
     "shell.execute_reply": "2022-10-21T18:12:33.544482Z",
     "shell.execute_reply.started": "2022-10-21T18:12:33.537149Z"
    }
   },
   "outputs": [],
   "source": [
    "# import time \n",
    "\n",
    "# print(\"Start clustering\")\n",
    "# start_time = time.time()"
   ]
  },
  {
   "cell_type": "code",
   "execution_count": 16,
   "metadata": {
    "execution": {
     "iopub.execute_input": "2022-10-21T18:12:33.547581Z",
     "iopub.status.busy": "2022-10-21T18:12:33.547235Z",
     "iopub.status.idle": "2022-10-21T18:12:33.555946Z",
     "shell.execute_reply": "2022-10-21T18:12:33.555009Z",
     "shell.execute_reply.started": "2022-10-21T18:12:33.547547Z"
    }
   },
   "outputs": [],
   "source": [
    "# from sentence_transformers import util\n",
    "\n",
    "# clusters = util.community_detection(corpus_embeddings, min_community_size=25, threshold=0.65)"
   ]
  },
  {
   "cell_type": "code",
   "execution_count": 17,
   "metadata": {
    "execution": {
     "iopub.execute_input": "2022-10-21T18:12:33.557863Z",
     "iopub.status.busy": "2022-10-21T18:12:33.557431Z",
     "iopub.status.idle": "2022-10-21T18:12:33.567603Z",
     "shell.execute_reply": "2022-10-21T18:12:33.566615Z",
     "shell.execute_reply.started": "2022-10-21T18:12:33.557825Z"
    }
   },
   "outputs": [],
   "source": [
    "# print(\"Clustering done after {:.2f} sec\".format(time.time() - start_time))"
   ]
  },
  {
   "cell_type": "code",
   "execution_count": 18,
   "metadata": {
    "execution": {
     "iopub.execute_input": "2022-10-21T18:12:33.569556Z",
     "iopub.status.busy": "2022-10-21T18:12:33.569189Z",
     "iopub.status.idle": "2022-10-21T18:12:33.578806Z",
     "shell.execute_reply": "2022-10-21T18:12:33.577780Z",
     "shell.execute_reply.started": "2022-10-21T18:12:33.569496Z"
    }
   },
   "outputs": [],
   "source": [
    "# #Print for all clusters the top 3 and bottom 3 elements\n",
    "# for i, cluster in enumerate(clusters):\n",
    "#     print(\"\\nCluster {}, #{} Elements \".format(i+1, len(cluster)))\n",
    "#     for sentence_id in cluster[0:3]:\n",
    "#         print(\"\\t\", text[sentence_id])\n",
    "#     print(\"\\t\", \"...\")\n",
    "#     for sentence_id in cluster[-3:]:\n",
    "#         print(\"\\t\", text[sentence_id])"
   ]
  },
  {
   "cell_type": "code",
   "execution_count": 19,
   "metadata": {
    "execution": {
     "iopub.execute_input": "2022-10-21T18:12:33.580142Z",
     "iopub.status.busy": "2022-10-21T18:12:33.579834Z",
     "iopub.status.idle": "2022-10-21T18:12:33.589576Z",
     "shell.execute_reply": "2022-10-21T18:12:33.588687Z",
     "shell.execute_reply.started": "2022-10-21T18:12:33.580110Z"
    }
   },
   "outputs": [],
   "source": [
    "# len(clusters)"
   ]
  },
  {
   "cell_type": "code",
   "execution_count": 20,
   "metadata": {
    "execution": {
     "iopub.execute_input": "2022-10-21T18:12:33.591493Z",
     "iopub.status.busy": "2022-10-21T18:12:33.591133Z",
     "iopub.status.idle": "2022-10-21T18:12:33.600829Z",
     "shell.execute_reply": "2022-10-21T18:12:33.599968Z",
     "shell.execute_reply.started": "2022-10-21T18:12:33.591459Z"
    }
   },
   "outputs": [],
   "source": [
    "# clusters[0][:5]"
   ]
  },
  {
   "cell_type": "code",
   "execution_count": 21,
   "metadata": {
    "execution": {
     "iopub.execute_input": "2022-10-21T18:12:33.602566Z",
     "iopub.status.busy": "2022-10-21T18:12:33.602228Z",
     "iopub.status.idle": "2022-10-21T18:12:33.610798Z",
     "shell.execute_reply": "2022-10-21T18:12:33.609918Z",
     "shell.execute_reply.started": "2022-10-21T18:12:33.602531Z"
    }
   },
   "outputs": [],
   "source": [
    "# len(text)"
   ]
  },
  {
   "cell_type": "code",
   "execution_count": 22,
   "metadata": {
    "execution": {
     "iopub.execute_input": "2022-10-21T18:12:33.612207Z",
     "iopub.status.busy": "2022-10-21T18:12:33.611884Z",
     "iopub.status.idle": "2022-10-21T18:12:33.890711Z",
     "shell.execute_reply": "2022-10-21T18:12:33.889725Z",
     "shell.execute_reply.started": "2022-10-21T18:12:33.612178Z"
    }
   },
   "outputs": [
    {
     "data": {
      "text/plain": [
       "313951"
      ]
     },
     "execution_count": 22,
     "metadata": {},
     "output_type": "execute_result"
    }
   ],
   "source": [
    "len(df.loc[idx])"
   ]
  },
  {
   "cell_type": "code",
   "execution_count": 23,
   "metadata": {
    "execution": {
     "iopub.execute_input": "2022-10-21T18:12:33.893124Z",
     "iopub.status.busy": "2022-10-21T18:12:33.892119Z",
     "iopub.status.idle": "2022-10-21T18:12:34.090202Z",
     "shell.execute_reply": "2022-10-21T18:12:34.089231Z",
     "shell.execute_reply.started": "2022-10-21T18:12:33.893083Z"
    }
   },
   "outputs": [],
   "source": [
    "import pandas as pd\n",
    "import seaborn as sns\n",
    "import matplotlib.pyplot as plt\n",
    "from sklearn.cluster import KMeans"
   ]
  },
  {
   "cell_type": "code",
   "execution_count": 24,
   "metadata": {
    "execution": {
     "iopub.execute_input": "2022-10-21T18:12:34.094819Z",
     "iopub.status.busy": "2022-10-21T18:12:34.094531Z",
     "iopub.status.idle": "2022-10-21T22:28:21.765330Z",
     "shell.execute_reply": "2022-10-21T22:28:21.764445Z",
     "shell.execute_reply.started": "2022-10-21T18:12:34.094792Z"
    }
   },
   "outputs": [
    {
     "name": "stdout",
     "output_type": "stream",
     "text": [
      "10\n",
      "15\n",
      "20\n",
      "25\n",
      "30\n",
      "35\n",
      "40\n",
      "45\n",
      "50\n",
      "55\n",
      "60\n",
      "65\n",
      "70\n",
      "75\n",
      "80\n",
      "85\n",
      "90\n",
      "95\n",
      "100\n"
     ]
    },
    {
     "data": {
      "image/png": "[encoded data removed]",
      "text/plain": [
       "<Figure size 432x288 with 1 Axes>"
      ]
     },
     "metadata": {
      "needs_background": "light"
     },
     "output_type": "display_data"
    }
   ],
   "source": [
    "wcss = []\n",
    "\n",
    "# for i in [10, 15, 20, 25]:\n",
    "for i in list(range(10, 105, 5)):\n",
    "    print(i)\n",
    "    clustering = KMeans(n_clusters=i, init='k-means++', random_state=42)\n",
    "    clustering.fit(corpus_embeddings.cpu())\n",
    "    wcss.append(clustering.inertia_)\n",
    "    \n",
    "ks = list(range(10, 105, 5))\n",
    "sns.lineplot(x = ks, y = wcss);"
   ]
  },
  {
   "cell_type": "code",
   "execution_count": null,
   "metadata": {},
   "outputs": [],
   "source": [
    "clustering = KMeans(n_clusters=20, init='k-means++', random_state=42)\n",
    "clustering.fit(corpus_embeddings.cpu())"
   ]
  },
  {
   "cell_type": "code",
   "execution_count": null,
   "metadata": {},
   "outputs": [],
   "source": [
    "corpus_embeddings.cpu().shape[0]"
   ]
  },
  {
   "cell_type": "code",
   "execution_count": null,
   "metadata": {},
   "outputs": [],
   "source": [
    "labels = clustering.labels_"
   ]
  },
  {
   "cell_type": "code",
   "execution_count": null,
   "metadata": {},
   "outputs": [],
   "source": [
    "from collections import Counter\n",
    "\n",
    "Counter(sorted(labels))"
   ]
  },
  {
   "cell_type": "code",
   "execution_count": 48,
   "metadata": {
    "execution": {
     "iopub.execute_input": "2022-10-19T15:37:50.810121Z",
     "iopub.status.busy": "2022-10-19T15:37:50.809664Z",
     "iopub.status.idle": "2022-10-19T15:37:50.822716Z",
     "shell.execute_reply": "2022-10-19T15:37:50.821572Z",
     "shell.execute_reply.started": "2022-10-19T15:37:50.810081Z"
    }
   },
   "outputs": [
    {
     "data": {
      "text/plain": [
       "313951"
      ]
     },
     "execution_count": 48,
     "metadata": {},
     "output_type": "execute_result"
    }
   ],
   "source": [
    "len(labels)"
   ]
  },
  {
   "cell_type": "code",
   "execution_count": 49,
   "metadata": {
    "execution": {
     "iopub.execute_input": "2022-10-19T15:37:54.609446Z",
     "iopub.status.busy": "2022-10-19T15:37:54.609078Z",
     "iopub.status.idle": "2022-10-19T15:37:54.615874Z",
     "shell.execute_reply": "2022-10-19T15:37:54.614947Z",
     "shell.execute_reply.started": "2022-10-19T15:37:54.609414Z"
    }
   },
   "outputs": [
    {
     "data": {
      "text/plain": [
       "array([23, 22, 24, ..., 17, 14, 12], dtype=int32)"
      ]
     },
     "execution_count": 49,
     "metadata": {},
     "output_type": "execute_result"
    }
   ],
   "source": [
    "labels"
   ]
  },
  {
   "cell_type": "code",
   "execution_count": 50,
   "metadata": {
    "execution": {
     "iopub.execute_input": "2022-10-19T15:38:05.612090Z",
     "iopub.status.busy": "2022-10-19T15:38:05.611726Z",
     "iopub.status.idle": "2022-10-19T15:38:05.896140Z",
     "shell.execute_reply": "2022-10-19T15:38:05.895042Z",
     "shell.execute_reply.started": "2022-10-19T15:38:05.612062Z"
    }
   },
   "outputs": [
    {
     "data": {
      "text/plain": [
       "(313951, 20)"
      ]
     },
     "execution_count": 50,
     "metadata": {},
     "output_type": "execute_result"
    }
   ],
   "source": [
    "df.loc[idx].shape"
   ]
  },
  {
   "cell_type": "code",
   "execution_count": 52,
   "metadata": {
    "execution": {
     "iopub.execute_input": "2022-10-19T15:38:16.203757Z",
     "iopub.status.busy": "2022-10-19T15:38:16.203370Z",
     "iopub.status.idle": "2022-10-19T15:38:16.210157Z",
     "shell.execute_reply": "2022-10-19T15:38:16.209036Z",
     "shell.execute_reply.started": "2022-10-19T15:38:16.203724Z"
    }
   },
   "outputs": [
    {
     "data": {
      "text/plain": [
       "313951"
      ]
     },
     "execution_count": 52,
     "metadata": {},
     "output_type": "execute_result"
    }
   ],
   "source": [
    "len(idx)"
   ]
  },
  {
   "cell_type": "code",
   "execution_count": 56,
   "metadata": {
    "execution": {
     "iopub.execute_input": "2022-10-19T15:39:23.000492Z",
     "iopub.status.busy": "2022-10-19T15:39:22.999961Z",
     "iopub.status.idle": "2022-10-19T15:39:23.067821Z",
     "shell.execute_reply": "2022-10-19T15:39:23.066448Z",
     "shell.execute_reply.started": "2022-10-19T15:39:23.000453Z"
    }
   },
   "outputs": [],
   "source": [
    "idx_labels = dict(zip(idx, labels))"
   ]
  },
  {
   "cell_type": "code",
   "execution_count": 57,
   "metadata": {
    "execution": {
     "iopub.execute_input": "2022-10-19T15:39:44.703376Z",
     "iopub.status.busy": "2022-10-19T15:39:44.702983Z",
     "iopub.status.idle": "2022-10-19T15:39:45.493317Z",
     "shell.execute_reply": "2022-10-19T15:39:45.492320Z",
     "shell.execute_reply.started": "2022-10-19T15:39:44.703343Z"
    }
   },
   "outputs": [],
   "source": [
    "import pickle\n",
    "\n",
    "with open('/kaggle/working/idx_labels.pickle', 'wb') as handle:\n",
    "    pickle.dump(idx_labels, handle, protocol=pickle.HIGHEST_PROTOCOL)"
   ]
  },
  {
   "cell_type": "code",
   "execution_count": null,
   "metadata": {},
   "outputs": [],
   "source": []
  },
  {
   "cell_type": "code",
   "execution_count": 2,
   "metadata": {
    "execution": {
     "iopub.execute_input": "2022-10-19T16:41:55.013532Z",
     "iopub.status.busy": "2022-10-19T16:41:55.013025Z",
     "iopub.status.idle": "2022-10-19T16:41:55.020331Z",
     "shell.execute_reply": "2022-10-19T16:41:55.019343Z",
     "shell.execute_reply.started": "2022-10-19T16:41:55.013479Z"
    }
   },
   "outputs": [],
   "source": [
    "import pickle"
   ]
  },
  {
   "cell_type": "code",
   "execution_count": 3,
   "metadata": {
    "execution": {
     "iopub.execute_input": "2022-10-19T16:42:09.502595Z",
     "iopub.status.busy": "2022-10-19T16:42:09.501854Z",
     "iopub.status.idle": "2022-10-19T16:42:09.520272Z",
     "shell.execute_reply": "2022-10-19T16:42:09.519037Z",
     "shell.execute_reply.started": "2022-10-19T16:42:09.502553Z"
    }
   },
   "outputs": [
    {
     "ename": "FileNotFoundError",
     "evalue": "[Errno 2] No such file or directory: '/kaggle/working/idx_labels.pickle'",
     "output_type": "error",
     "traceback": [
      "\u001b[0;31m---------------------------------------------------------------------------\u001b[0m",
      "\u001b[0;31mFileNotFoundError\u001b[0m                         Traceback (most recent call last)",
      "\u001b[0;32m/tmp/ipykernel_18/274170518.py\u001b[0m in \u001b[0;36m<module>\u001b[0;34m\u001b[0m\n\u001b[0;32m----> 1\u001b[0;31m \u001b[0;32mwith\u001b[0m \u001b[0mopen\u001b[0m\u001b[0;34m(\u001b[0m\u001b[0;34m'/kaggle/working/idx_labels.pickle'\u001b[0m\u001b[0;34m,\u001b[0m \u001b[0;34m'rb'\u001b[0m\u001b[0;34m)\u001b[0m \u001b[0;32mas\u001b[0m \u001b[0mf\u001b[0m\u001b[0;34m:\u001b[0m\u001b[0;34m\u001b[0m\u001b[0;34m\u001b[0m\u001b[0m\n\u001b[0m\u001b[1;32m      2\u001b[0m     \u001b[0mx\u001b[0m \u001b[0;34m=\u001b[0m \u001b[0mpickle\u001b[0m\u001b[0;34m.\u001b[0m\u001b[0mload\u001b[0m\u001b[0;34m(\u001b[0m\u001b[0mf\u001b[0m\u001b[0;34m)\u001b[0m\u001b[0;34m\u001b[0m\u001b[0;34m\u001b[0m\u001b[0m\n",
      "\u001b[0;31mFileNotFoundError\u001b[0m: [Errno 2] No such file or directory: '/kaggle/working/idx_labels.pickle'"
     ]
    }
   ],
   "source": [
    "with open('/kaggle/working/idx_labels.pickle', 'rb') as f:\n",
    "    x = pickle.load(f)"
   ]
  },
  {
   "cell_type": "code",
   "execution_count": null,
   "metadata": {},
   "outputs": [],
   "source": []
  }
 ],
 "metadata": {
  "kernelspec": {
   "display_name": "Python 3",
   "language": "python",
   "name": "python3"
  },
  "language_info": {
   "codemirror_mode": {
    "name": "ipython",
    "version": 3
   },
   "file_extension": ".py",
   "mimetype": "text/x-python",
   "name": "python",
   "nbconvert_exporter": "python",
   "pygments_lexer": "ipython3",
   "version": "3.8.5"
  }
 },
 "nbformat": 4,
 "nbformat_minor": 4
}
